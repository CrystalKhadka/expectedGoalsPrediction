{
 "cells": [
  {
   "cell_type": "code",
   "id": "initial_id",
   "metadata": {
    "collapsed": true,
    "ExecuteTime": {
     "end_time": "2025-01-13T11:17:23.304396Z",
     "start_time": "2025-01-13T11:17:23.191100Z"
    }
   },
   "source": [
    "import pandas as pd\n",
    "\n",
    "# Load the dataset\n",
    "file_path = \"../data/processed/haaland_match_logs_final.csv\"  # Replace with your actual file path\n",
    "df = pd.read_csv(file_path)\n",
    "\n",
    "# Display the first few rows\n",
    "print(\"First 5 rows of the dataset:\")\n",
    "print(df.head())\n",
    "\n",
    "# Columns related to Match Information\n",
    "match_info_columns = ['Unnamed: 0', 'Date', 'Day', 'Comp', 'Round', 'Venue', 'Squad', 'Opponent', 'Time', 'Result_y',\n",
    "                      'GF', 'GA', 'Game_xG', 'xGA', 'Poss', 'Captain', 'Formation', 'Opp Formation']\n",
    "\n",
    "# Columns related to Player Statistics\n",
    "player_stats_columns = ['Unnamed: 0', 'Date', 'Squad', 'Opponent', 'Min', 'Gls', 'Ast', 'PK', 'PKatt', 'Sh', 'SoT',\n",
    "                       'CrdY', 'CrdR', 'Touches', 'Tkl', 'Int', 'Blocks', 'Player_xG', 'npxG', 'xAG', 'SCA', 'GCA',\n",
    "                       'PassCmp', 'PassAttm', 'PassCmp%', 'PrgPass', 'Carries', 'PrgCarries', 'TakeonsAtt', 'TakeonsSucc']\n",
    "\n",
    "# Split into Match Information and Player Statistics\n",
    "match_info_df = df[match_info_columns]\n",
    "player_stats_df = df[player_stats_columns]\n",
    "\n",
    "# Adding a unique match_id to Match Information\n",
    "match_info_df['match_id'] = range(1, len(match_info_df) + 1)\n",
    "\n",
    "# Merge match_id with player_stats_df\n",
    "player_stats_df = player_stats_df.merge(match_info_df[['match_id', 'Date']], on='Date', how='left')\n",
    "\n",
    "# Save to CSV\n",
    "match_info_df.to_csv(\"../data/normalized_data/match_information_with_id.csv\", index=False)\n",
    "player_stats_df.to_csv(\"../data/normalized_data/player_statistics_with_match_id.csv\", index=False)\n",
    "\n",
    "print(\"\\nCSV files saved successfully.\")\n"
   ],
   "outputs": [
    {
     "name": "stdout",
     "output_type": "stream",
     "text": [
      "First 5 rows of the dataset:\n",
      "   Unnamed: 0        Date  Day            Comp        Round Venue  \\\n",
      "0           0  2023-08-11  Fri  Premier League  Matchweek 1  Away   \n",
      "1           1  2023-08-19  Sat  Premier League  Matchweek 2  Home   \n",
      "2           2  2023-08-27  Sun  Premier League  Matchweek 3  Away   \n",
      "3           3  2023-09-02  Sat  Premier League  Matchweek 4  Home   \n",
      "4           4  2023-09-16  Sat  Premier League  Matchweek 5  Away   \n",
      "\n",
      "             Squad       Opponent Start Pos  ...           Time  Result_y  GF  \\\n",
      "0  Manchester City        Burnley     Y  FW  ...  20:00 (00:45)         W   3   \n",
      "1  Manchester City  Newcastle Utd     Y  FW  ...  20:00 (00:45)         W   1   \n",
      "2  Manchester City  Sheffield Utd     Y  FW  ...  14:00 (18:45)         W   2   \n",
      "3  Manchester City         Fulham     Y  FW  ...  15:00 (19:45)         W   5   \n",
      "4  Manchester City       West Ham     Y  FW  ...  15:00 (19:45)         W   3   \n",
      "\n",
      "   GA  Game_xG  xGA  Poss          Captain  Formation  Opp Formation  \n",
      "0   0      1.9  0.3    65  Kevin De Bruyne    4-2-3-1          5-4-1  \n",
      "1   0      1.0  0.3    59      Kyle Walker    4-2-3-1          4-3-3  \n",
      "2   1      3.5  0.7    79      Kyle Walker    4-2-3-1          3-5-2  \n",
      "3   1      2.2  1.4    68      Kyle Walker    4-2-3-1          4-3-3  \n",
      "4   1      3.6  0.9    68      Kyle Walker    4-2-3-1        4-2-3-1  \n",
      "\n",
      "[5 rows x 46 columns]\n",
      "\n",
      "CSV files saved successfully.\n"
     ]
    },
    {
     "name": "stderr",
     "output_type": "stream",
     "text": [
      "C:\\Users\\khadk\\AppData\\Local\\Temp\\ipykernel_39832\\4046900717.py:25: SettingWithCopyWarning: \n",
      "A value is trying to be set on a copy of a slice from a DataFrame.\n",
      "Try using .loc[row_indexer,col_indexer] = value instead\n",
      "\n",
      "See the caveats in the documentation: https://pandas.pydata.org/pandas-docs/stable/user_guide/indexing.html#returning-a-view-versus-a-copy\n",
      "  match_info_df['match_id'] = range(1, len(match_info_df) + 1)\n"
     ]
    }
   ],
   "execution_count": 1
  },
  {
   "metadata": {
    "ExecuteTime": {
     "end_time": "2025-01-13T11:17:26.405689Z",
     "start_time": "2025-01-13T11:17:26.334882Z"
    }
   },
   "cell_type": "code",
   "source": [
    "import pandas as pd\n",
    "\n",
    "# Load the datasets\n",
    "shots_df = pd.read_csv(\"../data/processed/haaland_shots_cleaned_2023_2024.csv\")\n",
    "matches_df = pd.read_csv(\"../data/normalized_data/match_information_with_id.csv\")\n",
    "\n",
    "\n",
    "# Merge the match_id from matches_df into shots_df based on the Date column\n",
    "merged_df = pd.merge(shots_df, matches_df[['Date', 'match_id']], on='Date', how='left')\n",
    "\n",
    "# Save the updated dataframe to a new CSV\n",
    "merged_df.to_csv(\"../data/normalized_data/haaland_shots_with_match_id.csv\", index=False)\n",
    "\n",
    "print(\"Match ID successfully added to haaland_shots_cleaned_2023_2024.csv!\")\n"
   ],
   "id": "637947c792060352",
   "outputs": [
    {
     "name": "stdout",
     "output_type": "stream",
     "text": [
      "Match ID successfully added to haaland_shots_cleaned_2023_2024.csv!\n"
     ]
    }
   ],
   "execution_count": 2
  },
  {
   "metadata": {
    "ExecuteTime": {
     "end_time": "2025-01-13T11:17:32.597206Z",
     "start_time": "2025-01-13T11:17:32.524560Z"
    }
   },
   "cell_type": "code",
   "source": [
    "import pandas as pd\n",
    "\n",
    "# Load the datasets\n",
    "haaland_assists = pd.read_csv('../data/processed/haaland_goals_cleaned.csv')  # Replace with the actual path to your file\n",
    "match_info = pd.read_csv('../data/normalized_data/match_information_with_id.csv')  # Replace with the actual path to your file\n",
    "\n",
    "# Ensure the Date and Opponent columns are consistent for merging\n",
    "haaland_assists['Date'] = pd.to_datetime(haaland_assists['Date'])\n",
    "match_info['Date'] = pd.to_datetime(match_info['Date'])\n",
    "\n",
    "# Merge the datasets on Date and Opponent to add match_id\n",
    "haaland_goals_with_match_id = haaland_assists.merge(\n",
    "    match_info[['Date', 'Opponent', 'match_id']],\n",
    "    on=['Date', 'Opponent'],\n",
    "    how='left'\n",
    ")\n",
    "\n",
    "# Save the updated dataset\n",
    "haaland_goals_with_match_id.to_csv('../data/normalized_data/haaland_goals_with_match_id.csv', index=False)\n",
    "\n",
    "print(\"Match IDs added successfully! The updated dataset is saved as 'haaland_goals_with_match_id.csv'.\")\n"
   ],
   "id": "44036de18e758189",
   "outputs": [
    {
     "name": "stdout",
     "output_type": "stream",
     "text": [
      "Match IDs added successfully! The updated dataset is saved as 'haaland_goals_with_match_id.csv'.\n"
     ]
    }
   ],
   "execution_count": 3
  },
  {
   "metadata": {
    "ExecuteTime": {
     "end_time": "2025-01-13T11:17:34.871006Z",
     "start_time": "2025-01-13T11:17:34.826407Z"
    }
   },
   "cell_type": "code",
   "source": [
    "import pandas as pd\n",
    "\n",
    "# Load the datasets\n",
    "haaland_assists = pd.read_csv('../data/processed/haaland_assists_cleaned.csv')  # Replace with the actual path to your file\n",
    "match_info = pd.read_csv('../data/normalized_data/match_information_with_id.csv')  # Replace with the actual path to your file\n",
    "\n",
    "# Ensure the Date and Opponent columns are consistent for merging\n",
    "haaland_assists['Date'] = pd.to_datetime(haaland_assists['Date'])\n",
    "match_info['Date'] = pd.to_datetime(match_info['Date'])\n",
    "\n",
    "# Merge the datasets on Date and Opponent to add match_id\n",
    "haaland_goals_with_match_id = haaland_assists.merge(\n",
    "    match_info[['Date', 'Opponent', 'match_id']],\n",
    "    on=['Date', 'Opponent'],\n",
    "    how='left'\n",
    ")\n",
    "\n",
    "# Save the updated dataset\n",
    "haaland_goals_with_match_id.to_csv('../data/normalized_data/haaland_assists_with_match_id.csv', index=False)\n",
    "\n",
    "print(\"Match IDs added successfully! The updated dataset is saved as 'haaland_goals_with_match_id.csv'.\")\n"
   ],
   "id": "36df74fffc520a5e",
   "outputs": [
    {
     "name": "stdout",
     "output_type": "stream",
     "text": [
      "Match IDs added successfully! The updated dataset is saved as 'haaland_goals_with_match_id.csv'.\n"
     ]
    }
   ],
   "execution_count": 4
  },
  {
   "metadata": {
    "ExecuteTime": {
     "end_time": "2025-01-13T11:17:37.061700Z",
     "start_time": "2025-01-13T11:17:37.023460Z"
    }
   },
   "cell_type": "code",
   "source": [
    "import pandas as pd\n",
    "\n",
    "# Load the datasets\n",
    "fixtures = pd.read_csv('../data/processed/man_city_cleaned_fixtures.csv')  # Replace with the correct file path\n",
    "match_info = pd.read_csv('../data/normalized_data/match_information_with_id.csv')  # Replace with the correct file path\n",
    "\n",
    "# Ensure consistent date format (if Date exists in both datasets)\n",
    "fixtures['Date'] = pd.to_datetime(fixtures['Date'])\n",
    "match_info['Date'] = pd.to_datetime(match_info['Date'])\n",
    "\n",
    "# Merge datasets on common fields (e.g., Date and Opponent)\n",
    "merged_data = pd.merge(\n",
    "    fixtures,\n",
    "    match_info[['Date', 'Opponent', 'match_id']],  # Select relevant columns from match_info\n",
    "    on=['Date', 'Opponent'],  # Merge on Date and Opponent\n",
    "    how='left'  # Use 'left' to keep all rows in the fixtures dataset\n",
    ")\n",
    "\n",
    "# Save the merged data\n",
    "merged_data.to_csv('../data/normalized_data/man_city_fixtures_with_match_id.csv', index=False)\n",
    "\n",
    "print(\"Match IDs integrated successfully! Saved as 'man_City_fixtures_with_match_id.csv'.\")\n"
   ],
   "id": "31e9d751f95826fb",
   "outputs": [
    {
     "name": "stdout",
     "output_type": "stream",
     "text": [
      "Match IDs integrated successfully! Saved as 'man_City_fixtures_with_match_id.csv'.\n"
     ]
    }
   ],
   "execution_count": 5
  },
  {
   "metadata": {},
   "cell_type": "code",
   "outputs": [],
   "execution_count": null,
   "source": "",
   "id": "5951d73c266e4053"
  }
 ],
 "metadata": {
  "kernelspec": {
   "display_name": "Python 3",
   "language": "python",
   "name": "python3"
  },
  "language_info": {
   "codemirror_mode": {
    "name": "ipython",
    "version": 2
   },
   "file_extension": ".py",
   "mimetype": "text/x-python",
   "name": "python",
   "nbconvert_exporter": "python",
   "pygments_lexer": "ipython2",
   "version": "2.7.6"
  }
 },
 "nbformat": 4,
 "nbformat_minor": 5
}
