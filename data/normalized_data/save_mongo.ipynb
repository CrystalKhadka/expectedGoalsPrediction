{
 "cells": [
  {
   "cell_type": "code",
   "id": "initial_id",
   "metadata": {
    "collapsed": true,
    "jupyter": {
     "is_executing": true
    }
   },
   "source": [
    "import pandas as pd\n",
    "from pymongo import MongoClient, ASCENDING\n",
    "\n",
    "# Step 1: Define the file path and MongoDB details\n",
    "csv_file_path = \"man_city_fixtures_with_match_id.csv\"  # Path to your CSV file\n",
    "mongo_uri = \"mongodb://localhost:27017/\"  # MongoDB URI\n",
    "database_name = \"football\"  # Database name\n",
    "collection_name = \"man_city_fixtures_with_match_id\"  # Collection name\n",
    "\n",
    "# Step 2: Load the CSV file into a Pandas DataFrame\n",
    "df = pd.read_csv(csv_file_path)\n",
    "\n",
    "# Step 3: Connect to MongoDB\n",
    "client = MongoClient(mongo_uri)\n",
    "db = client[database_name]\n",
    "collection = db[collection_name]\n",
    "\n",
    "# Step 4: Insert data into MongoDB\n",
    "try:\n",
    "    # Drop the collection if it already exists to avoid duplicate entries\n",
    "    collection.drop()\n",
    "    \n",
    "    # Ensure match_id is a unique index\n",
    "    collection.create_index([(\"match_id\", ASCENDING)], unique=True)\n",
    "    \n",
    "    # Convert DataFrame to a list of dictionaries and insert into MongoDB\n",
    "    collection.insert_many(df.to_dict(\"records\"))\n",
    "    \n",
    "    print(f\"Data successfully imported into '{database_name}.{collection_name}'\")\n",
    "except Exception as e:\n",
    "    print(\"Error importing data:\", e)\n",
    "finally:\n",
    "    client.close()\n"
   ],
   "outputs": [],
   "execution_count": null
  }
 ],
 "metadata": {
  "kernelspec": {
   "display_name": "Python 3",
   "language": "python",
   "name": "python3"
  },
  "language_info": {
   "codemirror_mode": {
    "name": "ipython",
    "version": 2
   },
   "file_extension": ".py",
   "mimetype": "text/x-python",
   "name": "python",
   "nbconvert_exporter": "python",
   "pygments_lexer": "ipython2",
   "version": "2.7.6"
  }
 },
 "nbformat": 4,
 "nbformat_minor": 5
}
