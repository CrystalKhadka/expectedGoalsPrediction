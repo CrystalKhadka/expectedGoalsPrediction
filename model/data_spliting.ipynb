{
 "cells": [
  {
   "cell_type": "code",
   "id": "initial_id",
   "metadata": {
    "collapsed": true,
    "ExecuteTime": {
     "end_time": "2025-01-14T07:50:34.729107Z",
     "start_time": "2025-01-14T07:50:34.150088Z"
    }
   },
   "source": [
    "import pandas as pd\n",
    "from sqlalchemy import create_engine\n",
    "\n",
    "# PostgreSQL connection details\n",
    "postgres_user = 'postgres'\n",
    "postgres_password = ''\n",
    "postgres_host = 'localhost'\n",
    "postgres_port = '5432'\n",
    "postgres_db = 'football'\n",
    "\n",
    "# Create a PostgreSQL connection using SQLAlchemy\n",
    "postgres_uri = f'postgresql://{postgres_user}:{postgres_password}@{postgres_host}:{postgres_port}/{postgres_db}'\n",
    "engine = create_engine(postgres_uri)\n",
    "df=pd.read_sql_table('combined_data_features', engine)\n",
    "# View the data\n",
    "print(df.head())\n"
   ],
   "outputs": [
    {
     "name": "stdout",
     "output_type": "stream",
     "text": [
      "         Date        Round Venue Result  GF  GA Opponent  xG_x  xGA  Poss  \\\n",
      "0  2023-08-11  Matchweek 1  Away      W   3   0  Burnley   1.9  0.3    65   \n",
      "1  2023-08-11  Matchweek 1  Away      W   3   0  Burnley   1.9  0.3    65   \n",
      "2  2023-08-11  Matchweek 1  Away      W   3   0  Burnley   1.9  0.3    65   \n",
      "3  2023-08-11  Matchweek 1  Away      W   3   0  Burnley   1.9  0.3    65   \n",
      "4  2023-08-11  Matchweek 1  Away      W   3   0  Burnley   1.9  0.3    65   \n",
      "\n",
      "   ... early_goals team_pass_ratio  passes_per_game  defensive_work_rate  \\\n",
      "0  ...           1        0.818182         0.236842                  0.0   \n",
      "1  ...           1        0.818182         0.236842                  0.0   \n",
      "2  ...           0        0.818182         0.236842                  0.0   \n",
      "3  ...           0        0.818182         0.236842                  0.0   \n",
      "4  ...           1        0.818182         0.236842                  0.0   \n",
      "\n",
      "   formation_width  opponent_formation_width  average_position_x  \\\n",
      "0                4                         5            0.052056   \n",
      "1                4                         5            0.052889   \n",
      "2                4                         5            0.049500   \n",
      "3                4                         5            0.052444   \n",
      "4                4                         5            0.052056   \n",
      "\n",
      "   average_position_y  goals_after_75  goals_before_15  \n",
      "0            0.028111               0                1  \n",
      "1            0.023389               0                1  \n",
      "2            0.021389               0                0  \n",
      "3            0.037889               0                0  \n",
      "4            0.028111               0                1  \n",
      "\n",
      "[5 rows x 113 columns]\n"
     ]
    }
   ],
   "execution_count": 72
  },
  {
   "metadata": {
    "ExecuteTime": {
     "end_time": "2025-01-14T07:50:36.902514Z",
     "start_time": "2025-01-14T07:50:36.658813Z"
    }
   },
   "cell_type": "code",
   "source": [
    "# Check the first few rows of the dataset\n",
    "df.head()\n",
    "\n",
    "# Get summary statistics\n",
    "df.describe()\n",
    "\n",
    "# Check data types and missing values\n",
    "df.info()\n"
   ],
   "id": "c5a8d0bb516a004a",
   "outputs": [
    {
     "name": "stdout",
     "output_type": "stream",
     "text": [
      "<class 'pandas.core.frame.DataFrame'>\n",
      "RangeIndex: 181 entries, 0 to 180\n",
      "Columns: 113 entries, Date to goals_before_15\n",
      "dtypes: float64(46), int64(46), object(21)\n",
      "memory usage: 159.9+ KB\n"
     ]
    }
   ],
   "execution_count": 73
  },
  {
   "metadata": {
    "ExecuteTime": {
     "end_time": "2025-01-14T07:47:37.220267Z",
     "start_time": "2025-01-14T07:47:37.209768Z"
    }
   },
   "cell_type": "code",
   "source": [
    "# Separate features (X) and target (y)\n",
    "X = df.drop('match_result', axis=1)  # Drop the target column\n",
    "y = df['match_result']  # Assuming match_result is the column to predict\n"
   ],
   "id": "11379c9df101c37d",
   "outputs": [],
   "execution_count": 64
  },
  {
   "metadata": {
    "ExecuteTime": {
     "end_time": "2025-01-14T07:47:37.499698Z",
     "start_time": "2025-01-14T07:47:37.486028Z"
    }
   },
   "cell_type": "code",
   "source": [
    "from sklearn.model_selection import train_test_split\n",
    "\n",
    "# Split the data (80% training, 20% testing)\n",
    "X_train, X_test, y_train, y_test = train_test_split(X, y, test_size=0.2, random_state=42)\n",
    "\n",
    "# Check the shapes of the resulting sets\n",
    "print(f\"Training set size: {X_train.shape}, Test set size: {X_test.shape}\")\n"
   ],
   "id": "ddc5920fe53c0c64",
   "outputs": [
    {
     "name": "stdout",
     "output_type": "stream",
     "text": [
      "Training set size: (144, 112), Test set size: (37, 112)\n"
     ]
    }
   ],
   "execution_count": 65
  },
  {
   "metadata": {
    "ExecuteTime": {
     "end_time": "2025-01-14T07:47:37.945336Z",
     "start_time": "2025-01-14T07:47:37.937098Z"
    }
   },
   "cell_type": "code",
   "source": [
    "# Check the target distribution in the training and test sets\n",
    "print(f\"Training target distribution:\\n{y_train.value_counts()}\")\n",
    "print(f\"Test target distribution:\\n{y_test.value_counts()}\")\n"
   ],
   "id": "d513f5b4a70f76ea",
   "outputs": [
    {
     "name": "stdout",
     "output_type": "stream",
     "text": [
      "Training target distribution:\n",
      "match_result\n",
      "1    113\n",
      "0     31\n",
      "Name: count, dtype: int64\n",
      "Test target distribution:\n",
      "match_result\n",
      "1    30\n",
      "0     7\n",
      "Name: count, dtype: int64\n"
     ]
    }
   ],
   "execution_count": 66
  },
  {
   "metadata": {
    "ExecuteTime": {
     "end_time": "2025-01-14T07:49:07.920146Z",
     "start_time": "2025-01-14T07:49:07.857340Z"
    }
   },
   "cell_type": "code",
   "source": [
    "import pandas as pd\n",
    "from sklearn.preprocessing import LabelEncoder\n",
    "from sklearn.model_selection import train_test_split\n",
    "from sklearn.ensemble import RandomForestClassifier\n",
    "from sklearn.metrics import accuracy_score, classification_report, confusion_matrix\n",
    "\n",
    "# Load your data (replace this with your actual dataframe)\n",
    "# df = pd.read_csv(\"your_data.csv\")\n",
    "\n",
    "# Convert Date column to numeric (days since the first match)\n",
    "df['Date'] = pd.to_datetime(df['Date'])\n",
    "df['days_since_first_match'] = (df['Date'] - df['Date'].min()).dt.days\n",
    "\n",
    "# Drop the original Date column\n",
    "df.drop(columns=['Date'], inplace=True)\n",
    "\n",
    "# List of categorical columns to encode\n",
    "categorical_columns = ['Venue', 'Opponent', 'Formation', 'player', 'Result', 'situation', 'shotType', 'Goalkeeper', 'squad', 'season', 'lastAction']\n",
    "\n",
    "# Apply Label Encoding to each categorical column\n",
    "label_encoders = {}\n",
    "for col in categorical_columns:\n",
    "    le = LabelEncoder()\n",
    "    df[col] = le.fit_transform(df[col])\n",
    "    label_encoders[col] = le\n",
    "\n",
    "# If you want to apply one-hot encoding instead:\n",
    "# df = pd.get_dummies(df, columns=categorical_columns, drop_first=True)\n",
    "\n",
    "# Define features and target\n",
    "X = df.drop(columns=['match_result'])  # Features (excluding target column)\n",
    "y = df['match_result']  # Target column\n",
    "\n"
   ],
   "id": "ffb8b664b725641b",
   "outputs": [
    {
     "ename": "KeyError",
     "evalue": "'Date'",
     "output_type": "error",
     "traceback": [
      "\u001B[1;31m---------------------------------------------------------------------------\u001B[0m",
      "\u001B[1;31mKeyError\u001B[0m                                  Traceback (most recent call last)",
      "File \u001B[1;32mD:\\sem6\\thesis\\expectedGoalsRecommendatiion\\.venv\\Lib\\site-packages\\pandas\\core\\indexes\\base.py:3805\u001B[0m, in \u001B[0;36mIndex.get_loc\u001B[1;34m(self, key)\u001B[0m\n\u001B[0;32m   3804\u001B[0m \u001B[38;5;28;01mtry\u001B[39;00m:\n\u001B[1;32m-> 3805\u001B[0m     \u001B[38;5;28;01mreturn\u001B[39;00m \u001B[38;5;28;43mself\u001B[39;49m\u001B[38;5;241;43m.\u001B[39;49m\u001B[43m_engine\u001B[49m\u001B[38;5;241;43m.\u001B[39;49m\u001B[43mget_loc\u001B[49m\u001B[43m(\u001B[49m\u001B[43mcasted_key\u001B[49m\u001B[43m)\u001B[49m\n\u001B[0;32m   3806\u001B[0m \u001B[38;5;28;01mexcept\u001B[39;00m \u001B[38;5;167;01mKeyError\u001B[39;00m \u001B[38;5;28;01mas\u001B[39;00m err:\n",
      "File \u001B[1;32mindex.pyx:167\u001B[0m, in \u001B[0;36mpandas._libs.index.IndexEngine.get_loc\u001B[1;34m()\u001B[0m\n",
      "File \u001B[1;32mindex.pyx:196\u001B[0m, in \u001B[0;36mpandas._libs.index.IndexEngine.get_loc\u001B[1;34m()\u001B[0m\n",
      "File \u001B[1;32mpandas\\\\_libs\\\\hashtable_class_helper.pxi:7081\u001B[0m, in \u001B[0;36mpandas._libs.hashtable.PyObjectHashTable.get_item\u001B[1;34m()\u001B[0m\n",
      "File \u001B[1;32mpandas\\\\_libs\\\\hashtable_class_helper.pxi:7089\u001B[0m, in \u001B[0;36mpandas._libs.hashtable.PyObjectHashTable.get_item\u001B[1;34m()\u001B[0m\n",
      "\u001B[1;31mKeyError\u001B[0m: 'Date'",
      "\nThe above exception was the direct cause of the following exception:\n",
      "\u001B[1;31mKeyError\u001B[0m                                  Traceback (most recent call last)",
      "Cell \u001B[1;32mIn[69], line 11\u001B[0m\n\u001B[0;32m      5\u001B[0m \u001B[38;5;28;01mfrom\u001B[39;00m\u001B[38;5;250m \u001B[39m\u001B[38;5;21;01msklearn\u001B[39;00m\u001B[38;5;21;01m.\u001B[39;00m\u001B[38;5;21;01mmetrics\u001B[39;00m\u001B[38;5;250m \u001B[39m\u001B[38;5;28;01mimport\u001B[39;00m accuracy_score, classification_report, confusion_matrix\n\u001B[0;32m      7\u001B[0m \u001B[38;5;66;03m# Load your data (replace this with your actual dataframe)\u001B[39;00m\n\u001B[0;32m      8\u001B[0m \u001B[38;5;66;03m# df = pd.read_csv(\"your_data.csv\")\u001B[39;00m\n\u001B[0;32m      9\u001B[0m \n\u001B[0;32m     10\u001B[0m \u001B[38;5;66;03m# Convert Date column to numeric (days since the first match)\u001B[39;00m\n\u001B[1;32m---> 11\u001B[0m df[\u001B[38;5;124m'\u001B[39m\u001B[38;5;124mDate\u001B[39m\u001B[38;5;124m'\u001B[39m] \u001B[38;5;241m=\u001B[39m pd\u001B[38;5;241m.\u001B[39mto_datetime(\u001B[43mdf\u001B[49m\u001B[43m[\u001B[49m\u001B[38;5;124;43m'\u001B[39;49m\u001B[38;5;124;43mDate\u001B[39;49m\u001B[38;5;124;43m'\u001B[39;49m\u001B[43m]\u001B[49m)\n\u001B[0;32m     12\u001B[0m df[\u001B[38;5;124m'\u001B[39m\u001B[38;5;124mdays_since_first_match\u001B[39m\u001B[38;5;124m'\u001B[39m] \u001B[38;5;241m=\u001B[39m (df[\u001B[38;5;124m'\u001B[39m\u001B[38;5;124mDate\u001B[39m\u001B[38;5;124m'\u001B[39m] \u001B[38;5;241m-\u001B[39m df[\u001B[38;5;124m'\u001B[39m\u001B[38;5;124mDate\u001B[39m\u001B[38;5;124m'\u001B[39m]\u001B[38;5;241m.\u001B[39mmin())\u001B[38;5;241m.\u001B[39mdt\u001B[38;5;241m.\u001B[39mdays\n\u001B[0;32m     14\u001B[0m \u001B[38;5;66;03m# Drop the original Date column\u001B[39;00m\n",
      "File \u001B[1;32mD:\\sem6\\thesis\\expectedGoalsRecommendatiion\\.venv\\Lib\\site-packages\\pandas\\core\\frame.py:4102\u001B[0m, in \u001B[0;36mDataFrame.__getitem__\u001B[1;34m(self, key)\u001B[0m\n\u001B[0;32m   4100\u001B[0m \u001B[38;5;28;01mif\u001B[39;00m \u001B[38;5;28mself\u001B[39m\u001B[38;5;241m.\u001B[39mcolumns\u001B[38;5;241m.\u001B[39mnlevels \u001B[38;5;241m>\u001B[39m \u001B[38;5;241m1\u001B[39m:\n\u001B[0;32m   4101\u001B[0m     \u001B[38;5;28;01mreturn\u001B[39;00m \u001B[38;5;28mself\u001B[39m\u001B[38;5;241m.\u001B[39m_getitem_multilevel(key)\n\u001B[1;32m-> 4102\u001B[0m indexer \u001B[38;5;241m=\u001B[39m \u001B[38;5;28;43mself\u001B[39;49m\u001B[38;5;241;43m.\u001B[39;49m\u001B[43mcolumns\u001B[49m\u001B[38;5;241;43m.\u001B[39;49m\u001B[43mget_loc\u001B[49m\u001B[43m(\u001B[49m\u001B[43mkey\u001B[49m\u001B[43m)\u001B[49m\n\u001B[0;32m   4103\u001B[0m \u001B[38;5;28;01mif\u001B[39;00m is_integer(indexer):\n\u001B[0;32m   4104\u001B[0m     indexer \u001B[38;5;241m=\u001B[39m [indexer]\n",
      "File \u001B[1;32mD:\\sem6\\thesis\\expectedGoalsRecommendatiion\\.venv\\Lib\\site-packages\\pandas\\core\\indexes\\base.py:3812\u001B[0m, in \u001B[0;36mIndex.get_loc\u001B[1;34m(self, key)\u001B[0m\n\u001B[0;32m   3807\u001B[0m     \u001B[38;5;28;01mif\u001B[39;00m \u001B[38;5;28misinstance\u001B[39m(casted_key, \u001B[38;5;28mslice\u001B[39m) \u001B[38;5;129;01mor\u001B[39;00m (\n\u001B[0;32m   3808\u001B[0m         \u001B[38;5;28misinstance\u001B[39m(casted_key, abc\u001B[38;5;241m.\u001B[39mIterable)\n\u001B[0;32m   3809\u001B[0m         \u001B[38;5;129;01mand\u001B[39;00m \u001B[38;5;28many\u001B[39m(\u001B[38;5;28misinstance\u001B[39m(x, \u001B[38;5;28mslice\u001B[39m) \u001B[38;5;28;01mfor\u001B[39;00m x \u001B[38;5;129;01min\u001B[39;00m casted_key)\n\u001B[0;32m   3810\u001B[0m     ):\n\u001B[0;32m   3811\u001B[0m         \u001B[38;5;28;01mraise\u001B[39;00m InvalidIndexError(key)\n\u001B[1;32m-> 3812\u001B[0m     \u001B[38;5;28;01mraise\u001B[39;00m \u001B[38;5;167;01mKeyError\u001B[39;00m(key) \u001B[38;5;28;01mfrom\u001B[39;00m\u001B[38;5;250m \u001B[39m\u001B[38;5;21;01merr\u001B[39;00m\n\u001B[0;32m   3813\u001B[0m \u001B[38;5;28;01mexcept\u001B[39;00m \u001B[38;5;167;01mTypeError\u001B[39;00m:\n\u001B[0;32m   3814\u001B[0m     \u001B[38;5;66;03m# If we have a listlike key, _check_indexing_error will raise\u001B[39;00m\n\u001B[0;32m   3815\u001B[0m     \u001B[38;5;66;03m#  InvalidIndexError. Otherwise we fall through and re-raise\u001B[39;00m\n\u001B[0;32m   3816\u001B[0m     \u001B[38;5;66;03m#  the TypeError.\u001B[39;00m\n\u001B[0;32m   3817\u001B[0m     \u001B[38;5;28mself\u001B[39m\u001B[38;5;241m.\u001B[39m_check_indexing_error(key)\n",
      "\u001B[1;31mKeyError\u001B[0m: 'Date'"
     ]
    }
   ],
   "execution_count": 69
  },
  {
   "metadata": {
    "ExecuteTime": {
     "end_time": "2025-01-14T07:49:19.651717Z",
     "start_time": "2025-01-14T07:49:19.641770Z"
    }
   },
   "cell_type": "code",
   "source": [
    "# Ensure that all column names are strings\n",
    "X.columns = X.columns.astype(str)\n",
    "\n",
    "print(X.columns)\n",
    "    "
   ],
   "id": "6d51e18d0f643e5e",
   "outputs": [
    {
     "name": "stdout",
     "output_type": "stream",
     "text": [
      "Index(['Round', 'Venue', 'Result', 'GF', 'GA', 'Opponent', 'xG_x', 'xGA',\n",
      "       'Poss', 'Formation',\n",
      "       ...\n",
      "       'team_pass_ratio', 'passes_per_game', 'defensive_work_rate',\n",
      "       'formation_width', 'opponent_formation_width', 'average_position_x',\n",
      "       'average_position_y', 'goals_after_75', 'goals_before_15',\n",
      "       'days_since_first_match'],\n",
      "      dtype='object', length=112)\n"
     ]
    }
   ],
   "execution_count": 71
  },
  {
   "metadata": {},
   "cell_type": "code",
   "outputs": [],
   "execution_count": null,
   "source": "",
   "id": "41eba5edc6c7c93"
  }
 ],
 "metadata": {
  "kernelspec": {
   "display_name": "Python 3",
   "language": "python",
   "name": "python3"
  },
  "language_info": {
   "codemirror_mode": {
    "name": "ipython",
    "version": 2
   },
   "file_extension": ".py",
   "mimetype": "text/x-python",
   "name": "python",
   "nbconvert_exporter": "python",
   "pygments_lexer": "ipython2",
   "version": "2.7.6"
  }
 },
 "nbformat": 4,
 "nbformat_minor": 5
}
