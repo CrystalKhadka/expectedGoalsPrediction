{
 "cells": [
  {
   "cell_type": "code",
   "id": "initial_id",
   "metadata": {
    "collapsed": true,
    "ExecuteTime": {
     "end_time": "2025-02-13T13:03:54.912413Z",
     "start_time": "2025-02-13T13:03:44.094862Z"
    }
   },
   "source": [
    "# Import required libraries\n",
    "import pandas as pd\n",
    "from sklearn.model_selection import train_test_split\n",
    "from sklearn.preprocessing import StandardScaler, OneHotEncoder\n",
    "from sklearn.compose import ColumnTransformer\n",
    "import tensorflow as tf\n",
    "from tensorflow.keras.models import Sequential\n",
    "from tensorflow.keras.layers import Dense, Dropout\n",
    "\n",
    "# Load the dataset\n",
    "data = pd.read_csv('../data/raw/haaland_shot_map.csv')\n"
   ],
   "outputs": [],
   "execution_count": 1
  },
  {
   "metadata": {
    "ExecuteTime": {
     "end_time": "2025-02-13T13:04:13.922594Z",
     "start_time": "2025-02-13T13:03:56.421170Z"
    }
   },
   "cell_type": "code",
   "source": [
    "from sklearn.metrics import r2_score\n",
    "from tensorflow.keras.regularizers import l2\n",
    "from tensorflow.keras.callbacks import EarlyStopping, ReduceLROnPlateau\n",
    "\n",
    "# Select relevant features and target\n",
    "features = ['X', 'Y', 'shotType', 'lastAction', 'situation']\n",
    "target = 'xG'\n",
    "data = data[features + [target]].dropna()  # Drop rows with missing values\n",
    "\n",
    "# Preprocess the data\n",
    "preprocessor = ColumnTransformer(\n",
    "    transformers=[\n",
    "        ('num', StandardScaler(), ['X', 'Y']),\n",
    "        ('cat', OneHotEncoder(handle_unknown='ignore'), ['shotType', 'lastAction', 'situation'])\n",
    "    ]\n",
    ")\n",
    "\n",
    "X = data[features]\n",
    "y = data[target]\n",
    "\n",
    "# Transform features\n",
    "X_processed = preprocessor.fit_transform(X)\n",
    "\n",
    "X_train, X_test, y_train, y_test = train_test_split(X_processed, y, test_size=0.2, random_state=42)\n",
    "\n",
    "\n",
    "# Define the neural network model\n",
    "nn_model = Sequential([\n",
    "    Dense(128, activation='relu', input_shape=(X_train.shape[1],)),\n",
    "    Dropout(0.2),\n",
    "    Dense(64, activation='relu'),\n",
    "    Dropout(0.2),\n",
    "    Dense(32, activation='relu'),\n",
    "    Dense(1, activation='linear')  # Output layer for regression\n",
    "])\n",
    "\n",
    "# Compile the model\n",
    "nn_model.compile(optimizer='adam', loss='mse', metrics=['mse'])\n",
    "\n",
    "# Train the model\n",
    "history = nn_model.fit(X_train, y_train, epochs=50, batch_size=16, validation_split=0.2, verbose=1)\n",
    "\n",
    "# Evaluate the model\n",
    "loss, mse = nn_model.evaluate(X_test, y_test, verbose=1)\n",
    "print(f\"Test Loss: {loss}, Test MSE: {mse}\")\n",
    "\n",
    "y_pred = nn_model.predict(X_test).flatten()\n",
    "r2 = r2_score(y_test, y_pred)\n",
    "print(f\"R² Score: {r2:.4f}\")\n",
    "\n",
    "# Define a function to predict xG for new inputs\n",
    "def predict_xg(x, y, shot_type, last_action, situation):\n",
    "    input_data = pd.DataFrame([[x, y, shot_type, last_action, situation]], columns=['X', 'Y', 'shotType', 'lastAction', 'situation'])\n",
    "    input_processed = preprocessor.transform(input_data)\n",
    "    predicted_xg = nn_model.predict(input_processed)\n",
    "    return predicted_xg[0][0]"
   ],
   "id": "8a809051a6aa1646",
   "outputs": [
    {
     "name": "stderr",
     "output_type": "stream",
     "text": [
      "D:\\sem6\\thesis\\data_collection\\football\\.venv\\Lib\\site-packages\\keras\\src\\layers\\core\\dense.py:87: UserWarning: Do not pass an `input_shape`/`input_dim` argument to a layer. When using Sequential models, prefer using an `Input(shape)` object as the first layer in the model instead.\n",
      "  super().__init__(activity_regularizer=activity_regularizer, **kwargs)\n"
     ]
    },
    {
     "name": "stdout",
     "output_type": "stream",
     "text": [
      "Epoch 1/50\n",
      "\u001B[1m20/20\u001B[0m \u001B[32m━━━━━━━━━━━━━━━━━━━━\u001B[0m\u001B[37m\u001B[0m \u001B[1m2s\u001B[0m 23ms/step - loss: 0.1333 - mse: 0.1333 - val_loss: 0.0372 - val_mse: 0.0372\n",
      "Epoch 2/50\n",
      "\u001B[1m20/20\u001B[0m \u001B[32m━━━━━━━━━━━━━━━━━━━━\u001B[0m\u001B[37m\u001B[0m \u001B[1m0s\u001B[0m 12ms/step - loss: 0.0488 - mse: 0.0488 - val_loss: 0.0261 - val_mse: 0.0261\n",
      "Epoch 3/50\n",
      "\u001B[1m20/20\u001B[0m \u001B[32m━━━━━━━━━━━━━━━━━━━━\u001B[0m\u001B[37m\u001B[0m \u001B[1m0s\u001B[0m 11ms/step - loss: 0.0378 - mse: 0.0378 - val_loss: 0.0168 - val_mse: 0.0168\n",
      "Epoch 4/50\n",
      "\u001B[1m20/20\u001B[0m \u001B[32m━━━━━━━━━━━━━━━━━━━━\u001B[0m\u001B[37m\u001B[0m \u001B[1m0s\u001B[0m 11ms/step - loss: 0.0230 - mse: 0.0230 - val_loss: 0.0168 - val_mse: 0.0168\n",
      "Epoch 5/50\n",
      "\u001B[1m20/20\u001B[0m \u001B[32m━━━━━━━━━━━━━━━━━━━━\u001B[0m\u001B[37m\u001B[0m \u001B[1m0s\u001B[0m 11ms/step - loss: 0.0320 - mse: 0.0320 - val_loss: 0.0181 - val_mse: 0.0181\n",
      "Epoch 6/50\n",
      "\u001B[1m20/20\u001B[0m \u001B[32m━━━━━━━━━━━━━━━━━━━━\u001B[0m\u001B[37m\u001B[0m \u001B[1m0s\u001B[0m 11ms/step - loss: 0.0257 - mse: 0.0257 - val_loss: 0.0153 - val_mse: 0.0153\n",
      "Epoch 7/50\n",
      "\u001B[1m20/20\u001B[0m \u001B[32m━━━━━━━━━━━━━━━━━━━━\u001B[0m\u001B[37m\u001B[0m \u001B[1m0s\u001B[0m 11ms/step - loss: 0.0226 - mse: 0.0226 - val_loss: 0.0158 - val_mse: 0.0158\n",
      "Epoch 8/50\n",
      "\u001B[1m20/20\u001B[0m \u001B[32m━━━━━━━━━━━━━━━━━━━━\u001B[0m\u001B[37m\u001B[0m \u001B[1m0s\u001B[0m 11ms/step - loss: 0.0199 - mse: 0.0199 - val_loss: 0.0147 - val_mse: 0.0147\n",
      "Epoch 9/50\n",
      "\u001B[1m20/20\u001B[0m \u001B[32m━━━━━━━━━━━━━━━━━━━━\u001B[0m\u001B[37m\u001B[0m \u001B[1m0s\u001B[0m 11ms/step - loss: 0.0205 - mse: 0.0205 - val_loss: 0.0136 - val_mse: 0.0136\n",
      "Epoch 10/50\n",
      "\u001B[1m20/20\u001B[0m \u001B[32m━━━━━━━━━━━━━━━━━━━━\u001B[0m\u001B[37m\u001B[0m \u001B[1m0s\u001B[0m 12ms/step - loss: 0.0214 - mse: 0.0214 - val_loss: 0.0152 - val_mse: 0.0152\n",
      "Epoch 11/50\n",
      "\u001B[1m20/20\u001B[0m \u001B[32m━━━━━━━━━━━━━━━━━━━━\u001B[0m\u001B[37m\u001B[0m \u001B[1m0s\u001B[0m 11ms/step - loss: 0.0189 - mse: 0.0189 - val_loss: 0.0154 - val_mse: 0.0154\n",
      "Epoch 12/50\n",
      "\u001B[1m20/20\u001B[0m \u001B[32m━━━━━━━━━━━━━━━━━━━━\u001B[0m\u001B[37m\u001B[0m \u001B[1m0s\u001B[0m 11ms/step - loss: 0.0187 - mse: 0.0187 - val_loss: 0.0129 - val_mse: 0.0129\n",
      "Epoch 13/50\n",
      "\u001B[1m20/20\u001B[0m \u001B[32m━━━━━━━━━━━━━━━━━━━━\u001B[0m\u001B[37m\u001B[0m \u001B[1m0s\u001B[0m 11ms/step - loss: 0.0150 - mse: 0.0150 - val_loss: 0.0121 - val_mse: 0.0121\n",
      "Epoch 14/50\n",
      "\u001B[1m20/20\u001B[0m \u001B[32m━━━━━━━━━━━━━━━━━━━━\u001B[0m\u001B[37m\u001B[0m \u001B[1m0s\u001B[0m 10ms/step - loss: 0.0181 - mse: 0.0181 - val_loss: 0.0146 - val_mse: 0.0146\n",
      "Epoch 15/50\n",
      "\u001B[1m20/20\u001B[0m \u001B[32m━━━━━━━━━━━━━━━━━━━━\u001B[0m\u001B[37m\u001B[0m \u001B[1m0s\u001B[0m 11ms/step - loss: 0.0187 - mse: 0.0187 - val_loss: 0.0155 - val_mse: 0.0155\n",
      "Epoch 16/50\n",
      "\u001B[1m20/20\u001B[0m \u001B[32m━━━━━━━━━━━━━━━━━━━━\u001B[0m\u001B[37m\u001B[0m \u001B[1m0s\u001B[0m 11ms/step - loss: 0.0164 - mse: 0.0164 - val_loss: 0.0125 - val_mse: 0.0125\n",
      "Epoch 17/50\n",
      "\u001B[1m20/20\u001B[0m \u001B[32m━━━━━━━━━━━━━━━━━━━━\u001B[0m\u001B[37m\u001B[0m \u001B[1m0s\u001B[0m 10ms/step - loss: 0.0147 - mse: 0.0147 - val_loss: 0.0126 - val_mse: 0.0126\n",
      "Epoch 18/50\n",
      "\u001B[1m20/20\u001B[0m \u001B[32m━━━━━━━━━━━━━━━━━━━━\u001B[0m\u001B[37m\u001B[0m \u001B[1m0s\u001B[0m 10ms/step - loss: 0.0159 - mse: 0.0159 - val_loss: 0.0142 - val_mse: 0.0142\n",
      "Epoch 19/50\n",
      "\u001B[1m20/20\u001B[0m \u001B[32m━━━━━━━━━━━━━━━━━━━━\u001B[0m\u001B[37m\u001B[0m \u001B[1m0s\u001B[0m 10ms/step - loss: 0.0183 - mse: 0.0183 - val_loss: 0.0154 - val_mse: 0.0154\n",
      "Epoch 20/50\n",
      "\u001B[1m20/20\u001B[0m \u001B[32m━━━━━━━━━━━━━━━━━━━━\u001B[0m\u001B[37m\u001B[0m \u001B[1m0s\u001B[0m 11ms/step - loss: 0.0151 - mse: 0.0151 - val_loss: 0.0106 - val_mse: 0.0106\n",
      "Epoch 21/50\n",
      "\u001B[1m20/20\u001B[0m \u001B[32m━━━━━━━━━━━━━━━━━━━━\u001B[0m\u001B[37m\u001B[0m \u001B[1m0s\u001B[0m 11ms/step - loss: 0.0174 - mse: 0.0174 - val_loss: 0.0183 - val_mse: 0.0183\n",
      "Epoch 22/50\n",
      "\u001B[1m20/20\u001B[0m \u001B[32m━━━━━━━━━━━━━━━━━━━━\u001B[0m\u001B[37m\u001B[0m \u001B[1m0s\u001B[0m 11ms/step - loss: 0.0153 - mse: 0.0153 - val_loss: 0.0131 - val_mse: 0.0131\n",
      "Epoch 23/50\n",
      "\u001B[1m20/20\u001B[0m \u001B[32m━━━━━━━━━━━━━━━━━━━━\u001B[0m\u001B[37m\u001B[0m \u001B[1m0s\u001B[0m 11ms/step - loss: 0.0165 - mse: 0.0165 - val_loss: 0.0104 - val_mse: 0.0104\n",
      "Epoch 24/50\n",
      "\u001B[1m20/20\u001B[0m \u001B[32m━━━━━━━━━━━━━━━━━━━━\u001B[0m\u001B[37m\u001B[0m \u001B[1m0s\u001B[0m 11ms/step - loss: 0.0175 - mse: 0.0175 - val_loss: 0.0120 - val_mse: 0.0120\n",
      "Epoch 25/50\n",
      "\u001B[1m20/20\u001B[0m \u001B[32m━━━━━━━━━━━━━━━━━━━━\u001B[0m\u001B[37m\u001B[0m \u001B[1m0s\u001B[0m 11ms/step - loss: 0.0148 - mse: 0.0148 - val_loss: 0.0108 - val_mse: 0.0108\n",
      "Epoch 26/50\n",
      "\u001B[1m20/20\u001B[0m \u001B[32m━━━━━━━━━━━━━━━━━━━━\u001B[0m\u001B[37m\u001B[0m \u001B[1m0s\u001B[0m 10ms/step - loss: 0.0141 - mse: 0.0141 - val_loss: 0.0136 - val_mse: 0.0136\n",
      "Epoch 27/50\n",
      "\u001B[1m20/20\u001B[0m \u001B[32m━━━━━━━━━━━━━━━━━━━━\u001B[0m\u001B[37m\u001B[0m \u001B[1m0s\u001B[0m 11ms/step - loss: 0.0142 - mse: 0.0142 - val_loss: 0.0113 - val_mse: 0.0113\n",
      "Epoch 28/50\n",
      "\u001B[1m20/20\u001B[0m \u001B[32m━━━━━━━━━━━━━━━━━━━━\u001B[0m\u001B[37m\u001B[0m \u001B[1m0s\u001B[0m 11ms/step - loss: 0.0113 - mse: 0.0113 - val_loss: 0.0127 - val_mse: 0.0127\n",
      "Epoch 29/50\n",
      "\u001B[1m20/20\u001B[0m \u001B[32m━━━━━━━━━━━━━━━━━━━━\u001B[0m\u001B[37m\u001B[0m \u001B[1m0s\u001B[0m 11ms/step - loss: 0.0131 - mse: 0.0131 - val_loss: 0.0131 - val_mse: 0.0131\n",
      "Epoch 30/50\n",
      "\u001B[1m20/20\u001B[0m \u001B[32m━━━━━━━━━━━━━━━━━━━━\u001B[0m\u001B[37m\u001B[0m \u001B[1m0s\u001B[0m 11ms/step - loss: 0.0147 - mse: 0.0147 - val_loss: 0.0117 - val_mse: 0.0117\n",
      "Epoch 31/50\n",
      "\u001B[1m20/20\u001B[0m \u001B[32m━━━━━━━━━━━━━━━━━━━━\u001B[0m\u001B[37m\u001B[0m \u001B[1m0s\u001B[0m 10ms/step - loss: 0.0134 - mse: 0.0134 - val_loss: 0.0118 - val_mse: 0.0118\n",
      "Epoch 32/50\n",
      "\u001B[1m20/20\u001B[0m \u001B[32m━━━━━━━━━━━━━━━━━━━━\u001B[0m\u001B[37m\u001B[0m \u001B[1m0s\u001B[0m 10ms/step - loss: 0.0136 - mse: 0.0136 - val_loss: 0.0112 - val_mse: 0.0112\n",
      "Epoch 33/50\n",
      "\u001B[1m20/20\u001B[0m \u001B[32m━━━━━━━━━━━━━━━━━━━━\u001B[0m\u001B[37m\u001B[0m \u001B[1m0s\u001B[0m 10ms/step - loss: 0.0131 - mse: 0.0131 - val_loss: 0.0149 - val_mse: 0.0149\n",
      "Epoch 34/50\n",
      "\u001B[1m20/20\u001B[0m \u001B[32m━━━━━━━━━━━━━━━━━━━━\u001B[0m\u001B[37m\u001B[0m \u001B[1m0s\u001B[0m 11ms/step - loss: 0.0117 - mse: 0.0117 - val_loss: 0.0116 - val_mse: 0.0116\n",
      "Epoch 35/50\n",
      "\u001B[1m20/20\u001B[0m \u001B[32m━━━━━━━━━━━━━━━━━━━━\u001B[0m\u001B[37m\u001B[0m \u001B[1m0s\u001B[0m 10ms/step - loss: 0.0134 - mse: 0.0134 - val_loss: 0.0127 - val_mse: 0.0127\n",
      "Epoch 36/50\n",
      "\u001B[1m20/20\u001B[0m \u001B[32m━━━━━━━━━━━━━━━━━━━━\u001B[0m\u001B[37m\u001B[0m \u001B[1m0s\u001B[0m 11ms/step - loss: 0.0127 - mse: 0.0127 - val_loss: 0.0125 - val_mse: 0.0125\n",
      "Epoch 37/50\n",
      "\u001B[1m20/20\u001B[0m \u001B[32m━━━━━━━━━━━━━━━━━━━━\u001B[0m\u001B[37m\u001B[0m \u001B[1m0s\u001B[0m 10ms/step - loss: 0.0098 - mse: 0.0098 - val_loss: 0.0124 - val_mse: 0.0124\n",
      "Epoch 38/50\n",
      "\u001B[1m20/20\u001B[0m \u001B[32m━━━━━━━━━━━━━━━━━━━━\u001B[0m\u001B[37m\u001B[0m \u001B[1m0s\u001B[0m 10ms/step - loss: 0.0120 - mse: 0.0120 - val_loss: 0.0123 - val_mse: 0.0123\n",
      "Epoch 39/50\n",
      "\u001B[1m20/20\u001B[0m \u001B[32m━━━━━━━━━━━━━━━━━━━━\u001B[0m\u001B[37m\u001B[0m \u001B[1m0s\u001B[0m 10ms/step - loss: 0.0110 - mse: 0.0110 - val_loss: 0.0124 - val_mse: 0.0124\n",
      "Epoch 40/50\n",
      "\u001B[1m20/20\u001B[0m \u001B[32m━━━━━━━━━━━━━━━━━━━━\u001B[0m\u001B[37m\u001B[0m \u001B[1m0s\u001B[0m 10ms/step - loss: 0.0121 - mse: 0.0121 - val_loss: 0.0130 - val_mse: 0.0130\n",
      "Epoch 41/50\n",
      "\u001B[1m20/20\u001B[0m \u001B[32m━━━━━━━━━━━━━━━━━━━━\u001B[0m\u001B[37m\u001B[0m \u001B[1m0s\u001B[0m 11ms/step - loss: 0.0123 - mse: 0.0123 - val_loss: 0.0123 - val_mse: 0.0123\n",
      "Epoch 42/50\n",
      "\u001B[1m20/20\u001B[0m \u001B[32m━━━━━━━━━━━━━━━━━━━━\u001B[0m\u001B[37m\u001B[0m \u001B[1m0s\u001B[0m 10ms/step - loss: 0.0102 - mse: 0.0102 - val_loss: 0.0123 - val_mse: 0.0123\n",
      "Epoch 43/50\n",
      "\u001B[1m20/20\u001B[0m \u001B[32m━━━━━━━━━━━━━━━━━━━━\u001B[0m\u001B[37m\u001B[0m \u001B[1m0s\u001B[0m 10ms/step - loss: 0.0110 - mse: 0.0110 - val_loss: 0.0118 - val_mse: 0.0118\n",
      "Epoch 44/50\n",
      "\u001B[1m20/20\u001B[0m \u001B[32m━━━━━━━━━━━━━━━━━━━━\u001B[0m\u001B[37m\u001B[0m \u001B[1m0s\u001B[0m 10ms/step - loss: 0.0098 - mse: 0.0098 - val_loss: 0.0118 - val_mse: 0.0118\n",
      "Epoch 45/50\n",
      "\u001B[1m20/20\u001B[0m \u001B[32m━━━━━━━━━━━━━━━━━━━━\u001B[0m\u001B[37m\u001B[0m \u001B[1m0s\u001B[0m 11ms/step - loss: 0.0103 - mse: 0.0103 - val_loss: 0.0112 - val_mse: 0.0112\n",
      "Epoch 46/50\n",
      "\u001B[1m20/20\u001B[0m \u001B[32m━━━━━━━━━━━━━━━━━━━━\u001B[0m\u001B[37m\u001B[0m \u001B[1m0s\u001B[0m 11ms/step - loss: 0.0096 - mse: 0.0096 - val_loss: 0.0099 - val_mse: 0.0099\n",
      "Epoch 47/50\n",
      "\u001B[1m20/20\u001B[0m \u001B[32m━━━━━━━━━━━━━━━━━━━━\u001B[0m\u001B[37m\u001B[0m \u001B[1m0s\u001B[0m 10ms/step - loss: 0.0093 - mse: 0.0093 - val_loss: 0.0122 - val_mse: 0.0122\n",
      "Epoch 48/50\n",
      "\u001B[1m20/20\u001B[0m \u001B[32m━━━━━━━━━━━━━━━━━━━━\u001B[0m\u001B[37m\u001B[0m \u001B[1m0s\u001B[0m 11ms/step - loss: 0.0121 - mse: 0.0121 - val_loss: 0.0111 - val_mse: 0.0111\n",
      "Epoch 49/50\n",
      "\u001B[1m20/20\u001B[0m \u001B[32m━━━━━━━━━━━━━━━━━━━━\u001B[0m\u001B[37m\u001B[0m \u001B[1m0s\u001B[0m 11ms/step - loss: 0.0083 - mse: 0.0083 - val_loss: 0.0122 - val_mse: 0.0122\n",
      "Epoch 50/50\n",
      "\u001B[1m20/20\u001B[0m \u001B[32m━━━━━━━━━━━━━━━━━━━━\u001B[0m\u001B[37m\u001B[0m \u001B[1m0s\u001B[0m 12ms/step - loss: 0.0099 - mse: 0.0099 - val_loss: 0.0112 - val_mse: 0.0112\n",
      "\u001B[1m4/4\u001B[0m \u001B[32m━━━━━━━━━━━━━━━━━━━━\u001B[0m\u001B[37m\u001B[0m \u001B[1m0s\u001B[0m 23ms/step - loss: 0.0192 - mse: 0.0192\n",
      "Test Loss: 0.01809108257293701, Test MSE: 0.01809108257293701\n",
      "\u001B[1m4/4\u001B[0m \u001B[32m━━━━━━━━━━━━━━━━━━━━\u001B[0m\u001B[37m\u001B[0m \u001B[1m0s\u001B[0m 29ms/step \n",
      "R² Score: 0.6279\n"
     ]
    }
   ],
   "execution_count": 2
  },
  {
   "metadata": {
    "ExecuteTime": {
     "end_time": "2025-02-13T13:04:20.000175Z",
     "start_time": "2025-02-13T13:04:17.896696Z"
    }
   },
   "cell_type": "code",
   "source": [
    "from sklearn.metrics import r2_score\n",
    "import matplotlib.pyplot as plt\n",
    "\n",
    "# Evaluate the model\n",
    "loss, mse = nn_model.evaluate(X_test, y_test, verbose=1)\n",
    "print(f\"Test Loss: {loss:.4f}, Test MSE: {mse:.4f}\")\n",
    "\n",
    "# Calculate R² Score\n",
    "y_pred = nn_model.predict(X_test).flatten()\n",
    "r2 = r2_score(y_test, y_pred)\n",
    "print(f\"R² Score: {r2:.4f}\")\n",
    "\n",
    "# Plot training history\n",
    "plt.plot(history.history['loss'], label='Training Loss')\n",
    "plt.plot(history.history['val_loss'], label='Validation Loss')\n",
    "plt.xlabel('Epochs')\n",
    "plt.ylabel('Loss')\n",
    "plt.title('Training vs Validation Loss')\n",
    "plt.legend()\n",
    "plt.show()\n"
   ],
   "id": "6c7f8c0b9654cb11",
   "outputs": [
    {
     "name": "stdout",
     "output_type": "stream",
     "text": [
      "\u001B[1m4/4\u001B[0m \u001B[32m━━━━━━━━━━━━━━━━━━━━\u001B[0m\u001B[37m\u001B[0m \u001B[1m0s\u001B[0m 18ms/step - loss: 0.0192 - mse: 0.0192\n",
      "Test Loss: 0.0181, Test MSE: 0.0181\n",
      "\u001B[1m4/4\u001B[0m \u001B[32m━━━━━━━━━━━━━━━━━━━━\u001B[0m\u001B[37m\u001B[0m \u001B[1m0s\u001B[0m 22ms/step\n",
      "R² Score: 0.6279\n"
     ]
    },
    {
     "data": {
      "text/plain": [
       "<Figure size 640x480 with 1 Axes>"
      ],
      "image/png": "[encoded data removed]"
     },
     "metadata": {},
     "output_type": "display_data"
    }
   ],
   "execution_count": 3
  },
  {
   "metadata": {
    "ExecuteTime": {
     "end_time": "2025-02-13T13:04:35.485028Z",
     "start_time": "2025-02-13T13:04:35.420715Z"
    }
   },
   "cell_type": "code",
   "source": [
    "import pickle\n",
    "\n",
    "# Bundle the model and preprocessor\n",
    "model_preprocessor_bundle = {\n",
    "    'model': nn_model,\n",
    "    'preprocessor': preprocessor\n",
    "}\n",
    "\n",
    "# Save to a pickle file\n",
    "file_path = '../data/model/nn_model_and_preprocessor.pkl'\n",
    "with open(file_path, 'wb') as file:\n",
    "    pickle.dump(model_preprocessor_bundle, file)\n",
    "\n",
    "print(f\"Model and preprocessor saved to {file_path}\")\n"
   ],
   "id": "de82f9c1af201678",
   "outputs": [
    {
     "name": "stdout",
     "output_type": "stream",
     "text": [
      "Model and preprocessor saved to ../data/model/nn_model_and_preprocessor.pkl\n"
     ]
    }
   ],
   "execution_count": 5
  },
  {
   "metadata": {
    "ExecuteTime": {
     "end_time": "2025-02-13T13:04:40.142587Z",
     "start_time": "2025-02-13T13:04:39.801920Z"
    }
   },
   "cell_type": "code",
   "source": [
    "example_xg = predict_xg(0.95, 0.500, 'LeftFoot', 'HeadPass', 'FromCorner')\n",
    "print(f\"Predicted xG: {example_xg:.4f}\")"
   ],
   "id": "41d6ae4f610e93c4",
   "outputs": [
    {
     "name": "stdout",
     "output_type": "stream",
     "text": [
      "\u001B[1m1/1\u001B[0m \u001B[32m━━━━━━━━━━━━━━━━━━━━\u001B[0m\u001B[37m\u001B[0m \u001B[1m0s\u001B[0m 111ms/step\n",
      "Predicted xG: 0.5370\n"
     ]
    }
   ],
   "execution_count": 6
  },
  {
   "metadata": {},
   "cell_type": "code",
   "outputs": [],
   "execution_count": null,
   "source": "",
   "id": "a4fc1cdc5ac9d8de"
  }
 ],
 "metadata": {
  "kernelspec": {
   "display_name": "Python 3",
   "language": "python",
   "name": "python3"
  },
  "language_info": {
   "codemirror_mode": {
    "name": "ipython",
    "version": 2
   },
   "file_extension": ".py",
   "mimetype": "text/x-python",
   "name": "python",
   "nbconvert_exporter": "python",
   "pygments_lexer": "ipython2",
   "version": "2.7.6"
  }
 },
 "nbformat": 4,
 "nbformat_minor": 5
}
